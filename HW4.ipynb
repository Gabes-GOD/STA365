{
 "cells": [
  {
   "cell_type": "markdown",
   "id": "ce983413",
   "metadata": {
    "slideshow": {
     "slide_type": "slide"
    }
   },
   "source": [
    "# Question 1\n",
    "---"
   ]
  },
  {
   "cell_type": "code",
   "execution_count": 1,
   "id": "cef25198",
   "metadata": {},
   "outputs": [],
   "source": [
    "import numpy as np\n",
    "import matplotlib.pyplot as plt\n",
    "from scipy import stats\n",
    "import random"
   ]
  },
  {
   "cell_type": "code",
   "execution_count": 2,
   "id": "d4a0c451",
   "metadata": {},
   "outputs": [],
   "source": [
    "def joint_posterior(theta, tau, data, theta0, tau0, alpha, lam):\n",
    "    \"\"\"\n",
    "    Computes the unnormalized joint posterior:\n",
    "    p(theta, tau | x) ∝ p(x | theta, tau) * p(theta) * p(tau)\n",
    "    \n",
    "    Args:\n",
    "      theta : proposed mean\n",
    "      tau   : proposed precision\n",
    "      data  : observed data (array)\n",
    "      theta0: prior mean for theta\n",
    "      tau0  : prior precision for theta\n",
    "      alpha : shape of Gamma prior for tau\n",
    "      lam   : rate of Gamma prior for tau\n",
    "    \n",
    "    Returns:\n",
    "      posterior_value: unnormalized posterior probability\n",
    "    \"\"\"\n",
    "    n = len(data)\n",
    "    sum_sq = np.sum((data - theta) ** 2)\n",
    "\n",
    "    # Likelihood (normal with precision tau)\n",
    "    likelihood = tau**(n/2) * np.exp(-0.5 * tau * sum_sq)\n",
    "\n",
    "    # Prior for theta (normal with precision tau0)\n",
    "    prior_theta = np.exp(-0.5 * tau0 * (theta - theta0)**2)\n",
    "\n",
    "    # Prior for tau (Gamma with shape alpha/2, rate lambda/2)\n",
    "    prior_tau = tau**(alpha/2 - 1) * np.exp(-lam/2 * tau)\n",
    "\n",
    "    # Compute unnormalized posterior\n",
    "    return likelihood * prior_theta * prior_tau\n",
    "\n",
    "def metropolis_within_gibbs(data, theta0, tau0, alpha, lam, n_iter, burn_in, prop_sd_theta):\n",
    "    \"\"\"\n",
    "    Metropolis-within-Gibbs sampling for Normal(mean=theta, precision=tau),\n",
    "    using direct evaluation of the joint posterior instead of logs.\n",
    "    \n",
    "    Args:\n",
    "      data     : 1D array of observed data\n",
    "      theta0   : prior mean for theta\n",
    "      tau0     : prior precision for theta\n",
    "      alpha    : shape for Gamma prior on tau\n",
    "      lam      : rate for Gamma prior on tau\n",
    "      n_iter   : number of iterations\n",
    "      burn_in  : number of samples to discard\n",
    "      prop_sd_theta : proposal standard deviation for theta\n",
    "      prop_sd_tau   : proposal standard deviation for tau\n",
    "    \n",
    "    Returns:\n",
    "      (theta_samples, tau_samples): Posterior samples after burn-in\n",
    "    \"\"\"\n",
    "    data = np.asarray(data)\n",
    "    \n",
    "    # Storage\n",
    "    theta_samples = np.zeros(n_iter)\n",
    "    tau_samples = np.zeros(n_iter)\n",
    "\n",
    "    # Initialize parameters\n",
    "    tau_current = np.random.gamma(shape=alpha/2, scale=1/lam/2)  \n",
    "    theta_current = np.random.normal(theta0, 1 / np.sqrt(tau0))  \n",
    "\n",
    "    for t in range(n_iter):\n",
    "        # -------------------------------------------------\n",
    "        # Step 1: Metropolis update for theta\n",
    "        # -------------------------------------------------\n",
    "        theta_proposed = np.random.normal(theta_current, prop_sd_theta)\n",
    "\n",
    "        p_current_theta = joint_posterior(theta_current, tau_current, data, theta0, tau0, alpha, lam)\n",
    "        p_proposed_theta = joint_posterior(theta_proposed, tau_current, data, theta0, tau0, alpha, lam)\n",
    "        \n",
    "        acceptance_ratio_theta = p_proposed_theta / p_current_theta\n",
    "        if np.random.rand() < min(1, acceptance_ratio_theta):\n",
    "            theta_current = theta_proposed  # Accept\n",
    "\n",
    "        # -------------------------------------------------\n",
    "        # Step 2: Metropolis update for tau\n",
    "        # -------------------------------------------------\n",
    "        tau_proposed = np.random.exponential(scale = 2)\n",
    "        \n",
    "        p_current_tau = joint_posterior(theta_current, tau_current, data, theta0, tau0, alpha, lam)\n",
    "        p_proposed_tau = joint_posterior(theta_current, tau_proposed, data, theta0, tau0, alpha, lam)\n",
    "        \n",
    "        acceptance_ratio_tau = (p_proposed_tau/p_current_tau)*(stats.expon.pdf(tau_current)/stats.expon.pdf(tau_proposed))\n",
    "        \n",
    "        if np.random.rand() < min(1, acceptance_ratio_tau):\n",
    "            tau_current = tau_proposed  # Accept\n",
    "\n",
    "        # Store samples\n",
    "        theta_samples[t] = theta_current\n",
    "        tau_samples[t] = tau_current\n",
    "\n",
    "    # Discard burn-in\n",
    "    return theta_samples[burn_in:], tau_samples[burn_in:]"
   ]
  },
  {
   "cell_type": "code",
   "execution_count": 3,
   "id": "dd02783f",
   "metadata": {},
   "outputs": [
    {
     "name": "stderr",
     "output_type": "stream",
     "text": [
      "/tmp/ipykernel_145/3268819266.py:71: RuntimeWarning: invalid value encountered in scalar divide\n",
      "  acceptance_ratio_theta = p_proposed_theta / p_current_theta\n",
      "/tmp/ipykernel_145/3268819266.py:83: RuntimeWarning: invalid value encountered in scalar divide\n",
      "  acceptance_ratio_tau = (p_proposed_tau/p_current_tau)*(stats.expon.pdf(tau_current)/stats.expon.pdf(tau_proposed))\n",
      "/tmp/ipykernel_145/3268819266.py:83: RuntimeWarning: divide by zero encountered in scalar divide\n",
      "  acceptance_ratio_tau = (p_proposed_tau/p_current_tau)*(stats.expon.pdf(tau_current)/stats.expon.pdf(tau_proposed))\n"
     ]
    }
   ],
   "source": [
    "random.seed(10)\n",
    "np.random.seed(15)\n",
    "\n",
    "# Generate synthetic data from Normal(50, 1/25)\n",
    "true_theta = 50\n",
    "true_tau = 1/25  # Precision = 1 / Variance\n",
    "data = np.random.normal(true_theta, 1/np.sqrt(true_tau), size=30)\n",
    "\n",
    "# Set prior hyperparameters\n",
    "theta0 = 0.0      # Prior mean for theta\n",
    "tau0   = 0.01     # Prior precision for theta (weak prior)\n",
    "alpha  = 1.0      # Shape of Gamma prior\n",
    "lam    = 1.0      # Rate of Gamma prior\n",
    "\n",
    "# Run the sampler\n",
    "theta_samples, tau_samples = metropolis_within_gibbs(\n",
    "    data, theta0, tau0, alpha, lam, n_iter=10000, burn_in=350, prop_sd_theta=0.8\n",
    ")"
   ]
  },
  {
   "cell_type": "code",
   "execution_count": 4,
   "id": "0088bcc3",
   "metadata": {},
   "outputs": [
    {
     "name": "stdout",
     "output_type": "stream",
     "text": [
      "Posterior mean of theta: 49.248188185983906\n",
      "Posterior mean of tau  : 0.050428673289713406\n"
     ]
    }
   ],
   "source": [
    "print(\"Posterior mean of theta:\", np.mean(theta_samples))\n",
    "print(\"Posterior mean of tau  :\", np.mean(tau_samples))"
   ]
  },
  {
   "cell_type": "code",
   "execution_count": 153,
   "id": "46831e24",
   "metadata": {},
   "outputs": [
    {
     "data": {
      "text/plain": [
       "[<matplotlib.lines.Line2D at 0x7f94d581fc10>]"
      ]
     },
     "execution_count": 153,
     "metadata": {},
     "output_type": "execute_result"
    },
    {
     "data": {
      "image/png": "[encoded data removed]",
      "text/plain": [
       "<Figure size 800x300 with 2 Axes>"
      ]
     },
     "metadata": {},
     "output_type": "display_data"
    }
   ],
   "source": [
    "fig,ax = plt.subplots(1,2,figsize=(8,3))\n",
    "ax[0].plot(theta_samples)\n",
    "ax[1].plot(tau_samples)"
   ]
  },
  {
   "cell_type": "code",
   "execution_count": 154,
   "id": "e73e591a",
   "metadata": {},
   "outputs": [
    {
     "data": {
      "text/plain": [
       "array([47.51643391, 50.87778435])"
      ]
     },
     "execution_count": 154,
     "metadata": {},
     "output_type": "execute_result"
    }
   ],
   "source": [
    "np.quantile(theta_samples, [0.025, 0.975])"
   ]
  },
  {
   "cell_type": "code",
   "execution_count": 155,
   "id": "356b712d",
   "metadata": {},
   "outputs": [
    {
     "data": {
      "text/plain": [
       "array([3.70034162, 5.83134872])"
      ]
     },
     "execution_count": 155,
     "metadata": {},
     "output_type": "execute_result"
    }
   ],
   "source": [
    "np.quantile(1/(tau_samples**0.5), [0.025, 0.975])"
   ]
  },
  {
   "cell_type": "markdown",
   "id": "5bb2cd0d",
   "metadata": {},
   "source": [
    "Both our credible intervals contain the values assigned to their respective parameters at the beginning of the simulation.\n",
    "\n",
    "We now run the same code from HW3 Q2 to provide a comparison between Gibbs and MH-within-Gibbs."
   ]
  },
  {
   "cell_type": "code",
   "execution_count": 18,
   "id": "9afff4ee",
   "metadata": {},
   "outputs": [],
   "source": [
    "def gibbs_normal_gamma(x, alpha, lam, theta0, tau0, n_iter, burn_in):\n",
    "    \"\"\"\n",
    "    Gibbs sampler for a normal(theta, 1/tau) likelihood\n",
    "    with priors:\n",
    "      theta ~ Normal(theta0, 1/tau0)\n",
    "      tau ~ Gamma(alpha, lam)   [shape=alpha, rate=lam]\n",
    "\n",
    "    Args:\n",
    "      x       : 1D array of data\n",
    "      alpha   : prior shape parameter  (alpha>0)\n",
    "      lam     : prior rate parameter   (lam>0)\n",
    "      theta0  : prior mean (for theta)\n",
    "      tau0    : prior precision (for theta)\n",
    "      n_iter  : total number of Gibbs iterations\n",
    "\n",
    "    Returns:\n",
    "      (theta_chain, tau_chain) : arrays of posterior samples\n",
    "    \"\"\"\n",
    "    x = np.asarray(x)\n",
    "    n = len(x)\n",
    "\n",
    "    # Storage for samples\n",
    "    theta_samples = np.zeros(n_iter)\n",
    "    tau_samples = np.zeros(n_iter)\n",
    "\n",
    "    # Initialize at reasonable values\n",
    "    tau_current = np.random.gamma(alpha, 1/lam)  \n",
    "    theta_current  = np.random.normal(theta0, 1/np.sqrt(tau0))\n",
    "\n",
    "    for t in range(1,n_iter):\n",
    "        # ---------------------------\n",
    "        # 1) Sample theta | tau, x\n",
    "        # ---------------------------\n",
    "        # posterior precision and mean\n",
    "        post_prec = tau_current * n + tau0\n",
    "        post_mean = (tau_current * n * x.mean() + tau0 * theta0) / post_prec\n",
    "\n",
    "        # sample from Normal(post_mean, 1/post_prec)\n",
    "        theta_current = np.random.normal(loc = post_mean, scale = np.sqrt(1/post_prec))\n",
    "\n",
    "        # ---------------------------\n",
    "        # 2) Sample tau | theta, x\n",
    "        # ---------------------------\n",
    "        # shape = alpha + n/2\n",
    "        post_shape = (alpha + n)*0.5\n",
    "        # rate = lam + 0.5 * sum of squared residuals\n",
    "        sq_resid = np.sum((x - theta_current)**2)\n",
    "        post_rate = 0.5*(sq_resid + lam)\n",
    "\n",
    "        # sample from Gamma(post_shape, rate=post_rate)\n",
    "        tau_current = np.random.gamma(shape=post_shape, scale=1/post_rate)\n",
    "\n",
    "        # Store draws\n",
    "        theta_samples[t]  = theta_current\n",
    "        tau_samples[t] = tau_current\n",
    "\n",
    "    # Obtain results without burn in\n",
    "    return theta_samples[burn_in:], tau_samples[burn_in:]\n"
   ]
  },
  {
   "cell_type": "code",
   "execution_count": 25,
   "id": "f75c790c",
   "metadata": {},
   "outputs": [],
   "source": [
    "random.seed(10)\n",
    "np.random.seed(15)\n",
    "\n",
    "# Generate synthetic data from Normal(50, 1/25)\n",
    "true_theta = 50\n",
    "true_tau = 1/25  # Precision = 1 / Variance\n",
    "data = np.random.normal(true_theta, 1/np.sqrt(true_tau), size=30)\n",
    "\n",
    "# Set prior hyperparameters\n",
    "theta0 = 0.0      # Prior mean for theta\n",
    "tau0   = 0.01     # Prior precision for theta (weak prior)\n",
    "alpha  = 1.0      # Shape of Gamma prior\n",
    "lam    = 1.0      # Rate of Gamma prior\n",
    "\n",
    "# Run Gibbs sampler\n",
    "theta_samples, tau_samples = gibbs_normal_gamma(data, alpha, lam, theta0, tau0, n_iter = 10000, burn_in = 100)   \n"
   ]
  },
  {
   "cell_type": "code",
   "execution_count": 26,
   "id": "9d1c2f6a",
   "metadata": {},
   "outputs": [
    {
     "name": "stdout",
     "output_type": "stream",
     "text": [
      "Posterior mean of theta: 49.27141021830385\n",
      "Posterior mean of tau  : 0.05000753629395117\n"
     ]
    }
   ],
   "source": [
    "print(\"Posterior mean of theta:\", np.mean(theta_samples))\n",
    "print(\"Posterior mean of tau  :\", np.mean(tau_samples))"
   ]
  },
  {
   "cell_type": "code",
   "execution_count": 27,
   "id": "24c61635",
   "metadata": {},
   "outputs": [
    {
     "data": {
      "text/plain": [
       "[<matplotlib.lines.Line2D at 0x7f87afc39750>]"
      ]
     },
     "execution_count": 27,
     "metadata": {},
     "output_type": "execute_result"
    },
    {
     "data": {
      "image/png": "[encoded data removed]",
      "text/plain": [
       "<Figure size 800x300 with 2 Axes>"
      ]
     },
     "metadata": {},
     "output_type": "display_data"
    }
   ],
   "source": [
    "fig,ax = plt.subplots(1,2,figsize=(8,3))\n",
    "ax[0].plot(theta_samples)\n",
    "ax[1].plot(tau_samples)"
   ]
  },
  {
   "cell_type": "code",
   "execution_count": 28,
   "id": "3d9cc5f1",
   "metadata": {},
   "outputs": [
    {
     "data": {
      "text/plain": [
       "array([47.53051946, 50.89173768])"
      ]
     },
     "execution_count": 28,
     "metadata": {},
     "output_type": "execute_result"
    }
   ],
   "source": [
    "np.quantile(theta_samples, [0.025, 0.975])"
   ]
  },
  {
   "cell_type": "code",
   "execution_count": 29,
   "id": "490098d7",
   "metadata": {},
   "outputs": [
    {
     "data": {
      "text/plain": [
       "array([3.55553916, 6.01616598])"
      ]
     },
     "execution_count": 29,
     "metadata": {},
     "output_type": "execute_result"
    }
   ],
   "source": [
    "np.quantile(1/(tau_samples**0.5), [0.025, 0.975])"
   ]
  },
  {
   "cell_type": "markdown",
   "id": "0fc6b74b",
   "metadata": {},
   "source": [
    "The credible intervals obtained from Gibbs sampling is slightly wider than those of MH-within-Gibbs, but the difference is small and probably not very meaningful. A more important difference between the two methods is how theta and tau update over iterations. In Gibbs, we use the full conditionals, of which we need to know the entire distribution. Such knowledge may not always be obtainable. In MH-within-Gibbs, we use an unnormalized joint posterior, which is easier to obtain because we just need to know the shape of our priors and likelihood."
   ]
  },
  {
   "cell_type": "markdown",
   "id": "4d0f29e6",
   "metadata": {
    "slideshow": {
     "slide_type": "-"
    }
   },
   "source": [
    "# Question 2\n",
    "---"
   ]
  },
  {
   "cell_type": "code",
   "execution_count": 156,
   "id": "12346f90",
   "metadata": {},
   "outputs": [],
   "source": [
    "def joint_posterior(theta, tau, data, theta0, b, alpha, lam):\n",
    "    \"\"\"\n",
    "    Computes the unnormalized joint posterior:\n",
    "    p(theta, tau | x) ∝ p(x | theta, tau) * p(theta) * p(tau)\n",
    "    \n",
    "    Args:\n",
    "      theta : proposed mean\n",
    "      tau   : proposed precision\n",
    "      data  : observed data (array)\n",
    "      theta0: prior mean for theta\n",
    "      b     : scale parameter for Laplace prior on theta\n",
    "      alpha : shape of Gamma prior for tau\n",
    "      lam   : rate of Gamma prior for tau\n",
    "    \n",
    "    Returns:\n",
    "      posterior_value: unnormalized posterior probability\n",
    "    \"\"\"\n",
    "    n = len(data)\n",
    "    sum_sq = np.sum((data - theta) ** 2)\n",
    "\n",
    "    # Likelihood (normal with precision tau)\n",
    "    likelihood = tau**(n/2) * np.exp(-0.5 * tau * sum_sq)\n",
    "\n",
    "    # Prior for theta (laplace with loc theta0 and scale b)\n",
    "    prior_theta = np.exp(-np.abs(theta - theta0)/b)\n",
    "\n",
    "    # Prior for tau (Gamma with shape alpha, rate lambda)\n",
    "    prior_tau = tau**(alpha - 1) * np.exp(-lam * tau)\n",
    "\n",
    "    # Compute unnormalized posterior\n",
    "    return likelihood * prior_theta * prior_tau\n",
    "\n",
    "def metropolis_within_gibbs(data, theta0, b, alpha, lam, n_iter, burn_in, prop_sd_theta, s):\n",
    "    \"\"\"\n",
    "    Metropolis-within-Gibbs sampling for Normal(mean=theta, precision=tau),\n",
    "    using direct evaluation of the joint posterior instead of logs.\n",
    "    \n",
    "    Args:\n",
    "      data     : 1D array of observed data\n",
    "      theta0   : prior mean for theta\n",
    "      b        : scale parameter for Laplace prior on theta\n",
    "      alpha    : shape for Gamma prior on tau\n",
    "      lam      : rate for Gamma prior on tau\n",
    "      n_iter   : number of iterations\n",
    "      burn_in  : number of samples to discard\n",
    "      prop_sd_theta : proposal standard deviation for theta\n",
    "      prop_sd_tau   : proposal standard deviation for tau\n",
    "    \n",
    "    Returns:\n",
    "      (theta_samples, tau_samples): Posterior samples after burn-in\n",
    "    \"\"\"\n",
    "    data = np.asarray(data)\n",
    "    \n",
    "    # Storage\n",
    "    theta_samples = np.zeros(n_iter)\n",
    "    tau_samples = np.zeros(n_iter)\n",
    "\n",
    "    # Initialize parameters\n",
    "    tau_current = np.random.gamma(shape=alpha, scale=1/lam)  \n",
    "    theta_current = np.random.laplace(theta0, b)  \n",
    "\n",
    "    for t in range(n_iter):\n",
    "        # -------------------------------------------------\n",
    "        # Step 1: Metropolis update for theta\n",
    "        # -------------------------------------------------\n",
    "        theta_proposed = np.random.normal(theta_current, prop_sd_theta)\n",
    "\n",
    "        p_current_theta = joint_posterior(theta_current, tau_current, data, theta0, b, alpha, lam)\n",
    "        p_proposed_theta = joint_posterior(theta_proposed, tau_current, data, theta0, b, alpha, lam)\n",
    "        \n",
    "        acceptance_ratio_theta = p_proposed_theta / p_current_theta\n",
    "        if np.random.rand() < min(1, acceptance_ratio_theta):\n",
    "            theta_current = theta_proposed  # Accept\n",
    "\n",
    "        # -------------------------------------------------\n",
    "        # Step 2: Metropolis update for tau\n",
    "        # -------------------------------------------------\n",
    "        tau_proposed = stats.truncnorm.rvs(a=-tau_current/s, b=np.inf, loc=tau_current, scale=s)\n",
    "        \n",
    "        p_current_tau = joint_posterior(theta_current, tau_current, data, theta0, b, alpha, lam)\n",
    "        p_proposed_tau = joint_posterior(theta_current, tau_proposed, data, theta0, b, alpha, lam)\n",
    "        \n",
    "        acceptance_ratio_tau = (p_proposed_tau/p_current_tau)*\\\n",
    "                               (stats.truncnorm.pdf(tau_current, a=-tau_proposed/s, b=np.inf, loc=tau_proposed, scale=s)/\\\n",
    "                                stats.truncnorm.pdf(tau_proposed, a=-tau_current/s, b=np.inf, loc=tau_current, scale=s))\n",
    "        \n",
    "        if np.random.rand() < min(1, acceptance_ratio_tau):\n",
    "            tau_current = tau_proposed  # Accept\n",
    "\n",
    "        # Store samples\n",
    "        theta_samples[t] = theta_current\n",
    "        tau_samples[t] = tau_current\n",
    "\n",
    "    # Discard burn-in\n",
    "    return theta_samples[burn_in:], tau_samples[burn_in:]"
   ]
  },
  {
   "cell_type": "code",
   "execution_count": 157,
   "id": "f39b8385",
   "metadata": {},
   "outputs": [
    {
     "name": "stderr",
     "output_type": "stream",
     "text": [
      "/tmp/ipykernel_53/307007021.py:71: RuntimeWarning: invalid value encountered in scalar divide\n",
      "  acceptance_ratio_theta = p_proposed_theta / p_current_theta\n",
      "/tmp/ipykernel_53/307007021.py:83: RuntimeWarning: invalid value encountered in scalar divide\n",
      "  acceptance_ratio_tau = (p_proposed_tau/p_current_tau)*\\\n",
      "/tmp/ipykernel_53/307007021.py:83: RuntimeWarning: divide by zero encountered in scalar divide\n",
      "  acceptance_ratio_tau = (p_proposed_tau/p_current_tau)*\\\n"
     ]
    }
   ],
   "source": [
    "random.seed(20)\n",
    "np.random.seed(25)\n",
    "\n",
    "# Generate synthetic data from Normal(50, 1/25)\n",
    "true_theta = 50\n",
    "true_tau = 1/25  # Precision = 1 / Variance\n",
    "data = np.random.normal(true_theta, 1/np.sqrt(true_tau), size=30)\n",
    "\n",
    "# Set prior hyperparameters\n",
    "theta0 = 0      # Prior mean for theta\n",
    "b      = 5       # Laplace prior scale parameter\n",
    "alpha  = 1      # Shape of Gamma prior\n",
    "lam    = 1      # Rate of Gamma prior\n",
    "\n",
    "#, P_current_theta, P_proposed_theta, P_current_tau, P_proposed_tau, Accept_ratio_theta, Accept_ratio_tau\n",
    "# Run the sampler\n",
    "theta_samples, tau_samples = metropolis_within_gibbs(\n",
    "    data, theta0, b, alpha, lam, n_iter=10000, burn_in=200, prop_sd_theta=1, s = 0.1\n",
    ")"
   ]
  },
  {
   "cell_type": "code",
   "execution_count": 158,
   "id": "b0e6c81b",
   "metadata": {},
   "outputs": [
    {
     "name": "stdout",
     "output_type": "stream",
     "text": [
      "Posterior mean of theta: 49.55756440576337\n",
      "Posterior mean of tau  : 0.022010224221549905\n"
     ]
    }
   ],
   "source": [
    "print(\"Posterior mean of theta:\", np.mean(theta_samples))\n",
    "print(\"Posterior mean of tau  :\", np.mean(tau_samples))"
   ]
  },
  {
   "cell_type": "code",
   "execution_count": 159,
   "id": "091b555c",
   "metadata": {},
   "outputs": [
    {
     "data": {
      "text/plain": [
       "[<matplotlib.lines.Line2D at 0x7f94d5813110>]"
      ]
     },
     "execution_count": 159,
     "metadata": {},
     "output_type": "execute_result"
    },
    {
     "data": {
      "image/png": "[encoded data removed]",
      "text/plain": [
       "<Figure size 800x300 with 2 Axes>"
      ]
     },
     "metadata": {},
     "output_type": "display_data"
    }
   ],
   "source": [
    "fig,ax = plt.subplots(1,2,figsize=(8,3))\n",
    "ax[0].plot(theta_samples)\n",
    "ax[1].plot(tau_samples)"
   ]
  },
  {
   "cell_type": "code",
   "execution_count": 161,
   "id": "11f5f778",
   "metadata": {},
   "outputs": [
    {
     "data": {
      "text/plain": [
       "array([46.87103879, 52.08032853])"
      ]
     },
     "execution_count": 161,
     "metadata": {},
     "output_type": "execute_result"
    }
   ],
   "source": [
    "np.quantile(theta_samples, [0.025, 0.975])"
   ]
  },
  {
   "cell_type": "code",
   "execution_count": 162,
   "id": "33806f4d",
   "metadata": {},
   "outputs": [
    {
     "data": {
      "text/plain": [
       "array([5.39483662, 8.88845499])"
      ]
     },
     "execution_count": 162,
     "metadata": {},
     "output_type": "execute_result"
    }
   ],
   "source": [
    "np.quantile(1/(tau_samples**0.5), [0.025, 0.975])"
   ]
  },
  {
   "cell_type": "markdown",
   "id": "4158f2ee",
   "metadata": {},
   "source": [
    "While we need to determine the full conditional distribution when performing Gibbs sampling, we don't need to know that distribution for MH because an unnormalized joint posterior is enough. Our acceptance ratios are based on ratios of this distribution, so any normalizing constants we go through the pain of figuring out will just cancel with each other anyway."
   ]
  },
  {
   "cell_type": "markdown",
   "id": "e1b26d87",
   "metadata": {},
   "source": [
    "# Question 3\n",
    "---\n",
    "The ratios involving $q$ cancel because \n",
    "$$q(0|1) = \\frac 12 = q(1|0)$$\n",
    "Meanwhile we have\n",
    "$$\\begin{array}{ccc} p(0) = \\frac13 & \\text{ and } & p(1) = \\frac23 \\end{array}$$\n",
    "Since the proposal ratio is symmetric, it cancels so our acceptance probability becomes\n",
    "$$A(x^{(t-1)}, \\tilde x^{(t)}) = \\min\\left(1, \\frac{p(\\tilde x^{(t)})}{p(x^{(t-1)})}\\right)$$\n",
    "Suppose $x^{(t-1)} = 0$. The proposal $\\tilde x^{(t)} = 1$ happens with probability $1/2$, and\n",
    "$$A(0,1) = \\min\\left(1, \\frac{2/3}{1/3}\\right) = \\min(1, 2) = 1$$\n",
    "so the probability of transitioning to $1$ from $0$ is $1/2$. The probability of staying at $0$ is thus $1 - 1/2 = 1/2$. \n",
    "Suppose $x^{(t-1)} = 1$. The proposal $\\tilde x^{(t)} = 0$ happens with probability $1/2$, and \n",
    "$$A(1,0) = \\min\\left(1, \\frac{1/3}{2/3}\\right) = \\min(1, 0.5) = 0.5$$\n",
    "so the probability of transitioning to $0$ from $1$ is $1/4$. The probability of staying at $1$ is thus $1 - 1/4 = 3/4$. We conclude that \n",
    "$$K = \\begin{pmatrix} 0.5 & 0.25 \\\\ 0.5 & 0.75 \\end{pmatrix}$$\n",
    "as desired. "
   ]
  }
 ],
 "metadata": {
  "celltoolbar": "Slideshow",
  "kernelspec": {
   "display_name": "Python 3 (ipykernel)",
   "language": "python",
   "name": "python3"
  },
  "language_info": {
   "codemirror_mode": {
    "name": "ipython",
    "version": 3
   },
   "file_extension": ".py",
   "mimetype": "text/x-python",
   "name": "python",
   "nbconvert_exporter": "python",
   "pygments_lexer": "ipython3",
   "version": "3.11.6"
  }
 },
 "nbformat": 4,
 "nbformat_minor": 5
}
